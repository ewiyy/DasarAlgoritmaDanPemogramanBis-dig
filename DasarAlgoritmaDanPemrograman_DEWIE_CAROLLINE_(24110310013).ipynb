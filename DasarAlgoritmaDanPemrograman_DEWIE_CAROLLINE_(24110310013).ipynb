{
  "nbformat": 4,
  "nbformat_minor": 0,
  "metadata": {
    "colab": {
      "provenance": []
    },
    "kernelspec": {
      "name": "python3",
      "display_name": "Python 3"
    },
    "language_info": {
      "name": "python"
    }
  },
  "cells": [
    {
      "cell_type": "markdown",
      "source": [
        "**TUGAS PERTEMUAN 8 ( UTS )**"
      ],
      "metadata": {
        "id": "nrRurN8D25pw"
      }
    },
    {
      "cell_type": "code",
      "execution_count": null,
      "metadata": {
        "colab": {
          "base_uri": "https://localhost:8080/"
        },
        "id": "m4a_gcefgCQQ",
        "outputId": "41776e54-5ac2-48e0-e849-c3d77cee89df"
      },
      "outputs": [
        {
          "output_type": "stream",
          "name": "stdout",
          "text": [
            "Masukkan angka untuk dihitung faktorialnya: 24\n",
            "Faktorial dari 24 adalah 620448401733239439360000\n"
          ]
        }
      ],
      "source": [
        "def faktorial(n):\n",
        "    if n == 0 or n == 1:\n",
        "        return 1\n",
        "    else:\n",
        "        return n * faktorial(n - 1)\n",
        "\n",
        "# Input dari pengguna\n",
        "angka = int(input(\"Masukkan angka untuk dihitung faktorialnya: \"))\n",
        "hasil = faktorial(angka)\n",
        "print(f\"Faktorial dari {angka} adalah {hasil}\")"
      ]
    },
    {
      "cell_type": "code",
      "source": [
        "nilai_siswa = []\n",
        "\n",
        "# Input nilai sebanyak 5 kali\n",
        "for i in range(5):\n",
        "    nilai = int(input(f\"Masukkan nilai siswa ke-{i + 1}: \"))\n",
        "    nilai_siswa.append(nilai)\n",
        "\n",
        "# Mencari nilai tertinggi\n",
        "nilai_max = max(nilai_siswa)\n",
        "siswa_ke = nilai_siswa.index(nilai_max) + 1\n",
        "\n",
        "print(f\"Nilai tertinggi adalah {nilai_max}, diperoleh oleh siswa ke-{siswa_ke}.\")"
      ],
      "metadata": {
        "colab": {
          "base_uri": "https://localhost:8080/"
        },
        "id": "i5CgV9scmAX_",
        "outputId": "1f1aacfe-7927-4f24-a1ea-28aa8322079f"
      },
      "execution_count": null,
      "outputs": [
        {
          "output_type": "stream",
          "name": "stdout",
          "text": [
            "Masukkan nilai siswa ke-1: 90\n",
            "Masukkan nilai siswa ke-2: 87\n",
            "Masukkan nilai siswa ke-3: 92\n",
            "Masukkan nilai siswa ke-4: 85\n",
            "Masukkan nilai siswa ke-5: 98\n",
            "Nilai tertinggi adalah 98, diperoleh oleh siswa ke-5.\n"
          ]
        }
      ]
    },
    {
      "cell_type": "markdown",
      "source": [],
      "metadata": {
        "id": "QmGiQSB_2uh4"
      }
    },
    {
      "cell_type": "code",
      "source": [
        "# Input total belanja\n",
        "total_belanja = float(input(\"Masukkan total belanja (Rp): \"))\n",
        "\n",
        "# Hitung diskon jika belanja > 500000\n",
        "if total_belanja > 500000:\n",
        "    diskon = total_belanja * 0.10\n",
        "else:\n",
        "    diskon = 0\n",
        "\n",
        "total_bayar = total_belanja - diskon\n",
        "\n",
        "print(f\"Diskon: Rp{diskon:,.0f}\")\n",
        "print(f\"Total bayar setelah diskon: Rp{total_bayar:,.0f}\")"
      ],
      "metadata": {
        "colab": {
          "base_uri": "https://localhost:8080/"
        },
        "id": "99VbBszXmPm2",
        "outputId": "81ab3176-a51b-453b-a6d2-21717f9cc98f"
      },
      "execution_count": 4,
      "outputs": [
        {
          "output_type": "stream",
          "name": "stdout",
          "text": [
            "Masukkan total belanja (Rp): 500000\n",
            "Diskon: Rp0\n",
            "Total bayar setelah diskon: Rp500,000\n"
          ]
        }
      ]
    }
  ]
}